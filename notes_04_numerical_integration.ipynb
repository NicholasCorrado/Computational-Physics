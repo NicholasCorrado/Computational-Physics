{
 "cells": [
  {
   "cell_type": "markdown",
   "metadata": {},
   "source": [
    "## Numerical Integration"
   ]
  },
  {
   "cell_type": "markdown",
   "metadata": {},
   "source": [
    "### Numerical Integration\n",
    "How do we calculate a definite integral numerically?\n",
    "* Go back to the Riemann definition of the integral:\n",
    "$$\n",
    "\\int_a^b f(x) \\, \\mathrm{d}x = \\lim_{n\\rightarrow\\infty} \\left[ \\sum_{i=1}^{n} \\frac{b-a}{n} f(x_i) \\right]\n",
    "$$\n",
    "with $x_i = a + i\\frac{b-a}{n}$.\n",
    "* To evaluate numerically, let $n = N \\neq \\infty$, rewrite as:\n",
    "$$\n",
    "\\int_a^b f(x) \\, \\mathrm{d}x \\simeq \\sum_{i=1}^{N} w_i \\, f(x_i) \n",
    "$$\n",
    "* For the simplest approach, ''box counting'':\n",
    "  - $x_i = a + i\\frac{b-a}{N}$ are equally spaced\n",
    "  - $w_i=\\frac{b-a}{N}=h$ is just the width of each box.\n",
    "\n",
    "$\\textbf{Note}$: \n",
    "Although Riemann integration is useful for numeric integration, the Riemann integral is generally unsuitable for many theoretical purposes. Some technical deficiencies in Riemann integration can be remedied with the \n",
    "$\\href{https://en.wikipedia.org/wiki/Riemann%E2%80%93Stieltjes_integral}{\\text{Riemann-Stieltjes integral}}$, \n",
    "and most deficiencies can be remedied with the \n",
    "$\\href{https://en.wikipedia.org/wiki/Lebesgue_integration)}{\\text{Lebesgue integral}}$. "
   ]
  },
  {
   "cell_type": "markdown",
   "metadata": {},
   "source": [
    "### Simple Numerical Integration\n",
    "<img alt='Box Counting' src='figures/box_counting.png'>"
   ]
  },
  {
   "cell_type": "markdown",
   "metadata": {},
   "source": [
    "### Numerical Integration\n",
    "* Consider the function $f(x)$ to be interpolated as an $n^{th}$ order polynomial between the points $x_i$. Then:\n",
    "* $n=0$: a constant $\\Rightarrow$ \"box counting\"\n",
    "* $n=1$: a line $\\Rightarrow$ trapezoidal rule\n",
    "* $n=2$: a parabola $\\Rightarrow$ Simpson's rule\n",
    "* $n=3$: cubic $\\Rightarrow$ Simpson's $\\frac{3}{8}$ rule\n",
    "* All \"quadrature rules\" take the form:\n",
    "$$\n",
    "\\int_a^b f(x) \\, \\mathrm{d}x \\simeq \\sum_{i=1}^{N} w_i \\, f(x_i) \n",
    "$$\n",
    "* The approaches above only vary in their choice of $w_i$.\n",
    "* More advanced approaches also move around the $x_i$."
   ]
  },
  {
   "cell_type": "markdown",
   "metadata": {},
   "source": [
    "### Trapezoidal Rule\n",
    "* If $f(x)$ is taken to be a straight line between $x_i$ and $x_{i+1}$, then:\n",
    "$$\n",
    "\\int_{x_i}^{x_{i+1}} f(x) \\mathrm{d}x \\simeq h \\left[\\tfrac{1}{2} f(x_i) + \\frac{1}{2}  f(x_{i+1})\\right] \n",
    "$$\n",
    "is the area of a single trapezoid.\n",
    "* Add up the area of all the trapezoids: \n",
    "$$\n",
    "\\int_a^b f(x) \\mathrm{d}x \\simeq \\sum_{i=1}^{N} w_i \\, f(x_i)  \n",
    "\\simeq \\frac{h}{2} f(x_1) + h f(x_2) + \\cdots + h f(x_{N-1}) + \\frac{h}{2} f(x_N)\n",
    "$$\n",
    "* So, the weights are:\n",
    "$$\n",
    "w_i = \\left\\{ \\frac{h}{2}, h, h, \\ldots h, \\frac{h}{2} \\right\\}\n",
    "$$"
   ]
  },
  {
   "cell_type": "markdown",
   "metadata": {},
   "source": [
    "### Trapezoidal Rule Illustrated\n",
    "<img alt='Trapezoidal Rule' src='figures/trapezoidal.png'>"
   ]
  },
  {
   "cell_type": "markdown",
   "metadata": {},
   "source": [
    "### Simpson's Rule\n",
    "* If $f(x)$ is taken to be a parabola between  \n",
    " $x_i$ and $x_{i+2}$ (2 intervals!), then:\n",
    "$$\n",
    "\\int_{x_i}^{x_{i+2}} f(x) \\, \\mathrm{d}x \n",
    "\\simeq h \\left[\\tfrac{1}{3} \\, f(x_i) + \\tfrac{4}{3} \\, f(x_{i+1}) + \\tfrac{1}{3} \\, f(x_{i+2})\\right] \n",
    "$$\n",
    "is the area of a single parabola (spanning $2h$).\n",
    "* Add up the area of all the parabolas: \n",
    "$$\n",
    "\\int_a^b f(x) \\, \\mathrm{d}x \\simeq \\sum_{i=1}^{N} w_i \\, f(x_i)\n",
    "$$\n",
    "the weights are:\n",
    "$$\n",
    "w_i = \\left\\{ \\tfrac{h}{3}, 4\\tfrac{h}{3}, 2\\tfrac{h}{3}, 4\\tfrac{h}{3}, 2\\tfrac{h}{3}, \\ldots 4\\tfrac{h}{3}, \\tfrac{h}{3} \\right\\}\n",
    "$$\n",
    "* Since each parabola takes up two intervals, we must have an odd number of points (i.e. $N$ is odd)!"
   ]
  },
  {
   "cell_type": "markdown",
   "metadata": {},
   "source": [
    "### Simpson's Rule Illustrated\n",
    "<img alt='Simpsons Rule' src='figures/Simpsons.png'>"
   ]
  },
  {
   "cell_type": "markdown",
   "metadata": {},
   "source": [
    "### Gaussian Quadrature\n",
    "\n",
    "* Begin with the same form:\n",
    "$$\n",
    "\\int_a^b f(x) \\, \\mathrm{d}x \\simeq \\sum_{i=1}^{N} w_i \\, f(x_i)\n",
    "$$\n",
    "* But, now choose $w_i$ and $x_i$ (not equally spaced).\n",
    "\n",
    "* Exact if $f(x)$ is a $2N-1$ degree polynomial.\n",
    "\n",
    "* One approach (Gauss-Legendre):\n",
    "\n",
    "\n",
    "* $x_i$ is the $i^{th}$ root of $P_N(x)$, $P_N(x)$ is a Legendre polynomial scaled to the appropriate range.\n",
    "\n",
    "* $w_i$ given by:\n",
    "$$\n",
    "w_i = \\frac{2}{(1-x_i^2)[P^\\prime_N(x_i)]^2}\n",
    "$$\n",
    "\n",
    "* We will not write this kind of routine ourselves."
   ]
  },
  {
   "cell_type": "markdown",
   "metadata": {},
   "source": [
    "### Monte Carlo Integration: Hit-or-Miss Method\n",
    "\n",
    "* What is the area under the curve of the following function?\n",
    "<img alt='Monte Carlo' src='figures/monte_carlo.png'>\n",
    "\n",
    "* We can estimate it by drawing randomnly from the shown rectangle [0--2, 0--2.5] and then determining whether each point is above or below the line.  Take our sample of all points as $N$ and the number of points below the line as $k$.  Our estimate of the area is then $k/N *(2-0)*(2.5-0)$.\n"
   ]
  },
  {
   "cell_type": "markdown",
   "metadata": {},
   "source": [
    "### Monte Carlo Integration: Mean-Value Method\n",
    "\n",
    "* The above makes visual sense, but seems a bit inefficient.  Why did we have to spend time calculating all of those points far away from the line.  What if we could just focus on the line?\n",
    "\n",
    "* Let's try a different approach:  \n",
    "The first mean value theorem for integration says:\n",
    "$$\n",
    "\\int_a^b f(x) \\, \\mathrm{d}x = (b-a) \\, \\langle f \\rangle\n",
    "$$\n",
    "where $\\langle f \\rangle$ is the mean value of $f(x)$ on $[a, b]$.\n",
    "* Then, all we have to do is evaluate $\\langle f \\rangle$ and multiply by $b-a$, which we know.\n",
    "\n",
    "* How? Pick $N$ random values, $x_i$ in $[a, b]$. Then calculate $\\langle f \\rangle$ as:\n",
    "$$\n",
    "\\langle f \\rangle \\simeq \\frac{1}{N} \\sum_{i=1}^{N} f(x_i)\n",
    "$$\n",
    "* Our estimate of the integral is then\n",
    "$$\n",
    "\\int_a^b f(x) \\, \\mathrm{d}x \\simeq  \\frac{b-a}{N} \\sum_{i=1}^{N} f(x_i)\n",
    "$$\n",
    "* This formally coverges at the same $sqrt(N)$ rate, but the constant factor is less and so the Mean-Value method takes less time than the Hit-or-Miss method for any given accuracy."
   ]
  },
  {
   "cell_type": "markdown",
   "metadata": {},
   "source": [
    "### Monte Carlo Integration Summary\n",
    "\n",
    "* Monte Carlo integration with either method converges slowly.\n",
    "\n",
    "* But it's advantages are that:  \n",
    "   a.  It's easy to implement  \n",
    "   b. In $N$-D problems (with $N \\gg 1$), it can give a quick estimate of the result."
   ]
  },
  {
   "cell_type": "markdown",
   "metadata": {},
   "source": [
    "### SciPy Integration Routines\n",
    "The SciPy integration sub-package `scipy.integrate` provides several integration routines. An overview of the module is provided by the help command:  \n",
    "`help(scipy.integrate)`\n",
    "\n",
    "Methods for Integrating Functions given function object:\n",
    "\n",
    "\n",
    "* `quad`: General purpose integration.\n",
    "\n",
    "* `dblquad`: General purpose double integration.\n",
    "\n",
    "* `tplquad`: General purpose triple integration.\n",
    "\n",
    "* `fixed_quad`: Integrate $f(x)$ using Gaussian quadrature of order $n$.\n",
    "\n",
    "* `quadrature`: Integrate with given tolerance using Gaussian quadrature.\n",
    "\n",
    "* `romberg`: Integrate $f$ using Romberg integration."
   ]
  },
  {
   "cell_type": "markdown",
   "metadata": {},
   "source": [
    "### SciPy Integration Example\n",
    "You should write your own integration routines for your assignment, but here is an example with SciPy functions for future reference:\n",
    "\n",
    "\n",
    "* Setup module and function to be integrated:  \n",
    "```\n",
    "import scipy.integrate\n",
    "def f(x): return 2.0*x\n",
    "```\n",
    "\n",
    "* Integrate:  \n",
    "`scipy.integrate.quad(f, 0.0, 3.0)`\n",
    "\n",
    "\"Canned\" library routines are easy to use, and often, thought not always, are more robust than solutions we write ourselves, but it is often harder to tell what is going on in the calculation.  Your experience writing your own versions of these routines should provide some ability to figure out what's going on, allow you to read the documentation with more understanding, and guide you to **what tests you should write** when you use library routines."
   ]
  },
  {
   "cell_type": "markdown",
   "metadata": {},
   "source": [
    "------\n",
    "### *Pro tip*\n",
    "You can pass functions as arguments to other functions.  This is the technique that we will use to pass functions to integrate to our functions that do the intergrations."
   ]
  },
  {
   "cell_type": "code",
   "execution_count": 1,
   "metadata": {},
   "outputs": [
    {
     "name": "stdout",
     "output_type": "stream",
     "text": [
      "Calling meta_bar with foo:  100\n",
      "Calling meta_bar with bar:  20000\n"
     ]
    }
   ],
   "source": [
    "def foo(a):\n",
    "    return a**2\n",
    "\n",
    "def bar(a):\n",
    "    return a*2000\n",
    "\n",
    "def meta_bar(func, x):\n",
    "    return func(x)\n",
    "\n",
    "print('Calling meta_bar with foo: ', meta_bar(foo, 10))\n",
    "print('Calling meta_bar with bar: ', meta_bar(bar, 10))"
   ]
  },
  {
   "cell_type": "code",
   "execution_count": null,
   "metadata": {},
   "outputs": [],
   "source": []
  }
 ],
 "metadata": {
  "kernelspec": {
   "display_name": "Python 3",
   "language": "python",
   "name": "python3"
  },
  "language_info": {
   "codemirror_mode": {
    "name": "ipython",
    "version": 3
   },
   "file_extension": ".py",
   "mimetype": "text/x-python",
   "name": "python",
   "nbconvert_exporter": "python",
   "pygments_lexer": "ipython3",
   "version": "3.7.1"
  }
 },
 "nbformat": 4,
 "nbformat_minor": 1
}
