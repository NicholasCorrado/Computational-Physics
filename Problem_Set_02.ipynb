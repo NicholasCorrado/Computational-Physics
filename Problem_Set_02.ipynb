{
 "cells": [
  {
   "cell_type": "markdown",
   "metadata": {},
   "source": [
    "# PHYS 1321: Computational Methods in Physics\n",
    "## Problem Set 2 - Due Sep 9, 2016 at 23:59\n",
    "### Adapted from materials from Brian D'Urso\n",
    "\n",
    "* Complete the following problems.\n",
    "* Fork and clone the GitHub repository for this assignment\n",
    "* Complete your own version of this iPython Notebook and commit and create a pull request to submit.\n",
    "\n",
    "Your writeup in this iPython Notebook should include:\n",
    "\n",
    "1.  Answers to specific questions in the problem.\n",
    "2.  The parameters used to generate your results.\n",
    "3.  The text output of your code, if it is not trivial.\n",
    "4.  Images of all plots your code produces."
   ]
  },
  {
   "cell_type": "markdown",
   "metadata": {},
   "source": [
    "### Problem 1 : Apply a Function to a Vector\n",
    "\n",
    "Given a vector $v = (2, 3,-1)$ and a function $f(x) = x^3 + xe^x + 1$:  \n",
    "a. Apply $f$ to each element in $v$.  \n",
    "b. Calculate $f(v)$ as $v^3 + ve^v + 1$ using vector computing rules.  \n",
    "c. Show that the two results are equal."
   ]
  },
  {
   "cell_type": "code",
   "execution_count": 15,
   "metadata": {},
   "outputs": [
    {
     "name": "stdout",
     "output_type": "stream",
     "text": [
      "[23.778112197861301, 88.256610769562997, -0.36787944117144233]\n",
      "[ 23.7781122   88.25661077  -0.36787944]\n",
      "Does new_v equal f(v)? new_v == f(v): [ True  True  True]\n"
     ]
    }
   ],
   "source": [
    "import numpy as np\n",
    "\n",
    "def f(x):\n",
    "    return x**3 + x*np.exp(x) + 1\n",
    "\n",
    "v = array([2, 3, -1], float)\n",
    "new_v = [ ]\n",
    "\n",
    "for i in v:\n",
    "    new_v.append(f(i))\n",
    "\n",
    "print(new_v)\n",
    "print(f(v)) \n",
    "print(\"Does new_v equal f(v)? new_v == f(v):\", new_v == f(v), sep=' ')\n",
    "\n"
   ]
  },
  {
   "cell_type": "markdown",
   "metadata": {},
   "source": [
    "### Problem 2 : Vectorized Functions\n",
    " A function with many applications in science is defined as\n",
    "\n",
    "$$h(x)=\\frac{1}{2\\pi}e^{-\\tfrac{1}{2}x^2}$$\n",
    "\n",
    "a.  Make a function which creates list of $(x, h(x))$ pairs using a `for` loop for $n$ uniformly spaced $x$ coordinates in $[-4, 4]$. Show the output.\n",
    "\n",
    "b.  Vectorize the code in part (a) by creating the $x$ values using the `numpy.linspace` function and by evaluating $h(x)$ for an array argument. Combine the two arrays into a 2-D array, print the values, and plot the resulting points."
   ]
  },
  {
   "cell_type": "code",
   "execution_count": 53,
   "metadata": {},
   "outputs": [
    {
     "name": "stdout",
     "output_type": "stream",
     "text": [
      "[(-4.0, 5.3390535453281935e-05), (-3.0, 0.0017680517118520167), (-2.0, 0.021539279301848634), (-1.0, 0.096532352630053914), (0.0, 0.15915494309189535), (1.0, 0.096532352630053914), (2.0, 0.021539279301848634), (3.0, 0.0017680517118520167), (4.0, 5.3390535453281935e-05)]\n"
     ]
    },
    {
     "data": {
      "text/plain": [
       "<matplotlib.text.Text at 0x2282ee535c0>"
      ]
     },
     "execution_count": 53,
     "metadata": {},
     "output_type": "execute_result"
    },
    {
     "data": {
      "image/png": "[encoded data removed]",
      "text/plain": [
       "<matplotlib.figure.Figure at 0x2282eccbe10>"
      ]
     },
     "metadata": {},
     "output_type": "display_data"
    }
   ],
   "source": [
    "%matplotlib inline\n",
    "import numpy as np\n",
    "import matplotlib.pyplot as plt\n",
    "\n",
    "def h(x):\n",
    "    return 1/(2*pi) * np.exp(-1/2*x**2)\n",
    "\n",
    "def build_list(n):\n",
    "    coordinates = [ ]\n",
    "    delta = 8/(n-1) # the range of [-4, 4] is 8\n",
    "    \n",
    "    for i in range(n):\n",
    "        x = -4 + i*delta\n",
    "        coordinates.append((x, h(x)))\n",
    "    \n",
    "    return coordinates\n",
    "\n",
    "print(build_list(9))\n",
    "\n",
    "n= 14\n",
    "\n",
    "x = np.linspace(-4, 5, n)\n",
    "y = h(x)\n",
    "points = np.empty((2,n))\n",
    "points[0,:] = x\n",
    "points[1,:] = y\n",
    "plt.plot(points[0,:], points[1,:])\n",
    "plt.xlabel(\"x\")\n",
    "plt.ylabel(\"h(x)\")\n",
    "plt.title(\"h(x)      n = 14\")"
   ]
  },
  {
   "cell_type": "markdown",
   "metadata": {},
   "source": [
    "### Problem 3 : Demonstrate Array Slicing\n",
    " Write a function which creates an array `w` with values `0`, `0.1`, `0.2`, ... , `3`, then show the output of the following:\n",
    "\n",
    "1.  `w[:]`\n",
    "2.  `w[:-2]`\n",
    "3.  `w[::5]`\n",
    "4.  `w[2:-2:6]`\n",
    "\n",
    "Convince yourself in each case that you understand which elements of the array that are printed."
   ]
  },
  {
   "cell_type": "code",
   "execution_count": 46,
   "metadata": {},
   "outputs": [
    {
     "name": "stdout",
     "output_type": "stream",
     "text": [
      "[ 0.   0.1  0.2  0.3  0.4  0.5  0.6  0.7  0.8  0.9  1.   1.1  1.2  1.3  1.4\n",
      "  1.5  1.6  1.7  1.8  1.9  2.   2.1  2.2  2.3  2.4  2.5  2.6  2.7  2.8  2.9\n",
      "  3. ]\n",
      "[ 0.   0.1  0.2  0.3  0.4  0.5  0.6  0.7  0.8  0.9  1.   1.1  1.2  1.3  1.4\n",
      "  1.5  1.6  1.7  1.8  1.9  2.   2.1  2.2  2.3  2.4  2.5  2.6  2.7  2.8]\n",
      "[ 0.   0.5  1.   1.5  2.   2.5  3. ]\n"
     ]
    }
   ],
   "source": [
    "import numpy\n",
    "\n",
    "w = numpy.linspace(0, 3, 31)\n",
    "print(w[:])\n",
    "print(w[:-2])\n",
    "print(w[::5])\n",
    "# print([2:-2:6]) This one gives a syntax error..."
   ]
  },
  {
   "cell_type": "markdown",
   "metadata": {},
   "source": [
    "### Problem 4 : Plot a Formula\n",
    " Make a plot of the function $y(t) = v_0 t - 0.5gt^2$ for an input $v_0$, $g = 9.81$, and $n$ equally spaced points with $t$ from $0$ to $2v_0/g$. The label on the x axis should be `time [s]`, the label on the y axis should be `height [m]`, and the plot title should be `Problem 4`. \n",
    " \n",
    " From now on, **all** plots should have a descriptive title and axis labels."
   ]
  },
  {
   "cell_type": "code",
   "execution_count": 4,
   "metadata": {},
   "outputs": [
    {
     "data": {
      "text/plain": [
       "<matplotlib.text.Text at 0x1bb413cde10>"
      ]
     },
     "execution_count": 4,
     "metadata": {},
     "output_type": "execute_result"
    },
    {
     "data": {
      "image/png": "[encoded data removed]",
      "text/plain": [
       "<matplotlib.figure.Figure at 0x1bb40e868d0>"
      ]
     },
     "metadata": {},
     "output_type": "display_data"
    }
   ],
   "source": [
    "%matplotlib inline\n",
    "import numpy as np\n",
    "import matplotlib.pyplot as plt\n",
    "\n",
    "v = 6 # just putting a random initial velocity in\n",
    "\n",
    "def y(t):\n",
    "    return v*t - 0.5*9.81*t**2\n",
    "\n",
    "x_values = np.linspace(0, 2*v/9.81, 50 + 1)\n",
    "y_values = y(x_values)\n",
    "\n",
    "plt.plot(x_values, y_values)\n",
    "plt.ylabel(\"Height [m]\")\n",
    "plt.xlabel(\"Time [s]\")\n",
    "plt.title(\"Problem 4\")\n"
   ]
  },
  {
   "cell_type": "code",
   "execution_count": null,
   "metadata": {
    "collapsed": true
   },
   "outputs": [],
   "source": [
    "a = np.linspace(0, 100)\n",
    "print(type(a))\n",
    "print(len(a))\n",
    "b = np.linspace(0, 100, 101) # difference != number of intervals...\n",
    "print(b)"
   ]
  },
  {
   "cell_type": "code",
   "execution_count": null,
   "metadata": {
    "collapsed": true
   },
   "outputs": [],
   "source": [
    "x = np.linspace(0, 3*2*np.pi, 101)\n",
    "y = np.sin(x)\n",
    "plt.plot(x, y)\n",
    "plt.plot(2, 2*y)\n",
    "plt.xlabel(\"Angle [rad]\")\n",
    "plt.ylabel(\"Amplitude [ ]\")\n"
   ]
  },
  {
   "cell_type": "markdown",
   "metadata": {},
   "source": [
    "### Problem 5 : Plot Exact and Inexact F-C Formulas\n",
    " In Problem Set 01, we introduced a simple rule to quickly compute the Celsius temperature from the Fahrenheit degrees: $F = 2C+30$. Compare this curve against the exact curve $F = \\tfrac{9}{5}C+32$ in a plot. Let $C$ vary between -20 and 120 with $n$ equally spaced points, using points and lines. Make sure the two sets of data use different colors or symbols."
   ]
  },
  {
   "cell_type": "code",
   "execution_count": 14,
   "metadata": {},
   "outputs": [
    {
     "data": {
      "text/plain": [
       "<matplotlib.legend.Legend at 0x2282c278da0>"
      ]
     },
     "execution_count": 14,
     "metadata": {},
     "output_type": "execute_result"
    },
    {
     "data": {
      "image/png": "[encoded data removed]",
      "text/plain": [
       "<matplotlib.figure.Figure at 0x2282c1e1320>"
      ]
     },
     "metadata": {},
     "output_type": "display_data"
    }
   ],
   "source": [
    "%matplotlib inline\n",
    "import numpy as np\n",
    "import matplotlib.pyplot as plt\n",
    "\n",
    "n\n",
    "C = np.linspace(-20, 120, n+1)\n",
    "y1 = 9/5*C + 32\n",
    "y2 = 2*C + 30\n",
    "\n",
    "plt.plot(y1, C, label=\"Exact\")\n",
    "plt.plot(y2, C, label=\"Inexact\")\n",
    "plt.xlabel(\"Fahrenheit [F]\")\n",
    "plt.ylabel(\"Celsius [C]\")\n",
    "plt.title(\"Exact and Inexact F-C Formulas\")\n",
    "plt.legend(loc=\"right\")\n"
   ]
  },
  {
   "cell_type": "markdown",
   "metadata": {},
   "source": [
    "### Problem 6 : Interpolation\n",
    "Imagine we have $n+1$ measurements of some quantity $y$ that depends on $x$: $(x_0, y_0)$, $(x_1, y_1)$, …, $(x_n, y_n)$. We may think of $y$ as a function of $x$ and ask what $y$ is at some arbitrary point $x$ not coinciding with any of the $x_0$, …, $x_n$. This problem is known as interpolation. One way to solve this problem is to fit a continuous function that goes through all the $n + 1$ points and then evaluate this function for any desired $x$. A candidate for such a function is the polynomial of degree $n$ that goes through all the points.  We can call this polynomial $p_L(x)$ and write it as:\n",
    "\n",
    "$$p_L(x) = \\sum_{k=0}^n y_k L_k(x)$$\n",
    "\n",
    "where\n",
    "\n",
    "$$L_k(x) = \\prod_{i=0,i\\neq k}^n \\frac{x-x_i}{x_k-x_i}$$\n",
    "\n",
    "The $\\prod$ notation is the multiplicative equivalent of $\\sum$.  I.e., instead of summing the terms, the terms are multiplied, e.g.,\n",
    "\n",
    "$$\\prod_{i=0,i\\neq k}^n x_i = x_0 x_1 \\cdots x_{k-1}x_{k+1}\\cdots x_n$$\n",
    "\n",
    "The polynomial $p_L(x)$ is known as Lagrange’s interpolation formula, and the points $(x_0, y_0)$, …, $(x_n, y_n)$ are called interpolation points.\n",
    "\n",
    "----\n",
    "_Use Lagrange’s interpolation formula to interpolate $\\sin{x}$ over the range $[0, 2\\pi]$._\n",
    "\n",
    "In this problem you will write code to implement Lagrange interpolation.  You will write two key functions: $p_L(x)$ and $L_k(x)$.\n",
    "\n",
    "* Begin with $n+1$ interpolation points evenly spaced in $[0, 2\\pi]$.\n",
    "* Write a function `Lk(x, points)` that evaluates the alues of $L_k(x)$.  `points` is the set of $n+1$ interpolation points.  I recommend storing this as a two-dimensional array points, such that `points[i,0]` is the $x$ coordinate of point number $i$ and `points[i,1]` is the corresponding $y$ coordinate.\n",
    "* Write a function `lagrange(x, points)` that evaluates $p_L$ at the point $x$ given a set of `points`.\n",
    "\n",
    "To verify the program, we observe that $L_k(x_k) = 1$ and that $L_k(x_i) = 0$ for $i \\neq k$, implying that $p_L(x_k) = y_k$. That is, the interpolation function should exactly match the original function at the interpolation points. Plot the original function $\\sin{(x)}$ at the $n+1$ interpolation points, and connect those points with lines.\n",
    "\n",
    "* Plot the interpolation function $p_L(x)$, and the error $p_L(x)-\\sin(x)$ with points on the same plot with different colors and/or symbols for $m$ evenly spaced points along $x$ with $x \\in [0, 2\\pi]$ and $m\\gg n$.  \n",
    "* Print the maximum magnitude of the error.\n",
    "* Describe how many points ($n+1$) are needed to make the error less than $0.01$ over the entire range.\n",
    "* Does the maximum error keep decreasing for increasing $n$?\n",
    "* At what $n$ does the error seem to be minimum, and what is the minimum error?\n",
    "* Why might the maximum error increase with higher $n$?"
   ]
  },
  {
   "cell_type": "code",
   "execution_count": 65,
   "metadata": {},
   "outputs": [
    {
     "name": "stdout",
     "output_type": "stream",
     "text": [
      "max error: 4.0889719114e-06\n",
      "min error: 0.0\n"
     ]
    },
    {
     "data": {
      "text/plain": [
       "\"The error gets smaller than 0.01 over the entire range when n = 9. When\\nn is small (smaller than 9, I suppose), the error is greater. However, if\\nn gets too big, error gets large again. There's a sort of 'sweetspot'\\nsomewhere. So no, the error does not continually increase as n increases.\""
      ]
     },
     "execution_count": 65,
     "metadata": {},
     "output_type": "execute_result"
    },
    {
     "data": {
      "image/png": "[encoded data removed]",
      "text/plain": [
       "<matplotlib.figure.Figure at 0x2282f180d30>"
      ]
     },
     "metadata": {},
     "output_type": "display_data"
    }
   ],
   "source": [
    "%matplotlib inline\n",
    "import numpy as np\n",
    "import matplotlib.pyplot as plt\n",
    "\n",
    "n = 9\n",
    "x1 = np.linspace(0, 2*np.pi, n+1)\n",
    "x2 = np.linspace(0, 2*np.pi)\n",
    "y = np.sin(x)\n",
    "\n",
    "    \n",
    "def L_k(x, k, x_values):\n",
    "    product = 1\n",
    "\n",
    "    for i in range(n+1):\n",
    "        if i == k:\n",
    "            continue\n",
    "        product *= L_k_i(x, k, i, x_values)\n",
    "        \n",
    "    return product\n",
    "    \n",
    "def L_k_i(x, k, i, x_values):\n",
    "    return (x - x_values[i]) / (x_values[k] - x_values[i])\n",
    "\n",
    "def p_L(x):\n",
    "    total = 0\n",
    "    \n",
    "    for k in range(0, n+1):\n",
    "        total += y_values[k] * L_k(x, k, x_values)\n",
    "        \n",
    "    return total\n",
    "\n",
    "\n",
    "\n",
    "plt.plot(x1, p_L(x1), label=\"Interpolation\")\n",
    "plt.plot(x2, np.sin(x2), label=\"sin(x)\")\n",
    "plt.plot(x1, error, label=\"error\")\n",
    "plt.title(\"Lagrange Interpolation of sin(x)\")\n",
    "plt.xlabel(\"x\")\n",
    "plt.ylabel(\"y\")\n",
    "plt.legend(loc=\"best\")\n",
    "\n",
    "error = p_L(x1)-np.sin(x1)\n",
    "print(\"max error:\", max(abs(error)))\n",
    "print(\"min error:\", min(abs(error)))\n",
    "\n",
    "\n",
    "\n",
    "# The error gets smaller than 0.01 over the entire range when n = 9. When\n",
    "# n is small (smaller than 9, I suppose), the error is greater. However, if\n",
    "# n gets too big, error gets large again. There's a sort of 'sweetspot'\n",
    "# somewhere. So no, the error does not continually increase as n increases.\n",
    "# As per wikipedia, this happens because the Lagrange polynomial oscillates\n",
    "# especially at the edges.'''\n",
    "\n",
    "\n",
    "            "
   ]
  },
  {
   "cell_type": "code",
   "execution_count": null,
   "metadata": {
    "collapsed": true
   },
   "outputs": [],
   "source": []
  }
 ],
 "metadata": {
  "anaconda-cloud": {},
  "kernelspec": {
   "display_name": "Python 3",
   "language": "python",
   "name": "python3"
  },
  "language_info": {
   "codemirror_mode": {
    "name": "ipython",
    "version": 3
   },
   "file_extension": ".py",
   "mimetype": "text/x-python",
   "name": "python",
   "nbconvert_exporter": "python",
   "pygments_lexer": "ipython3",
   "version": "3.7.1"
  }
 },
 "nbformat": 4,
 "nbformat_minor": 1
}
