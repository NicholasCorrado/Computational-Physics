{
 "cells": [
  {
   "cell_type": "markdown",
   "metadata": {},
   "source": [
    "# PHYS 1321: Computational Methods in Physics\n",
    "## Problem Set 01 - Due Sep 2, 2015\n",
    "### Adapted from materials from Brian D'Urso\n",
    "\n",
    "* Fork and clone the GitHub repository for this assignment\n",
    "* Complete the following problems in your forked version of this iPython Notebook and commit and create a pull request to submit.\n",
    "  - I strongly encourage you to become familiar with the GitHub commit and push cycle early in the week.\n",
    "\n",
    "Your writeup in this iPython Notebook should include:\n",
    "\n",
    "1.  Answers to specific questions in the problem.\n",
    "2.  The parameters used to generate your results.\n",
    "3.  The text output of your code (use copy and paste), if it is not trivial.\n",
    "4.  Images of all plots your code produces.\n",
    " - [I don't anticipate plots from this first homework but the above will be the general boilerplate for assignments.]"
   ]
  },
  {
   "cell_type": "markdown",
   "metadata": {},
   "source": [
    "### Problem 1\n",
    "Show the result of evaluating the following expressions.  Be sure to indicate the correct type of the output (int, long int, or float).  While it's difficult to capture, I encourage you to think through in your head what you expect the answer to each to be.  If you are surprised by the results, explain what you learned.\n",
    "\n",
    "Specify and discuss whether you are using Python 2 or Python 3.\n",
    "\n",
    "1.  `4.0 / 10.0 + 3.5 * 2`\n",
    "2.  `10 % 4 + 6 / 2`\n",
    "3.  `abs(4 - 20 / 3) ** 3`\n",
    "4.  `3 * 10 / 3 + 10 % 3`\n",
    "5.  `1.00 - 0.95`\n",
    "6.  `0.95 + 0.05`\n",
    "7.  `5.3 % 5`\n",
    "8.  `5.6 % 5`\n",
    "9.  `2.3 % 2`\n",
    "10.  `2.6 % 2`  \n",
    "```from math import sqrt```\n",
    "11.  `sqrt(4.5 - 5.0) + 7 * 3`\n",
    "12.  `sqrt(5.0/3.0 - 10.0/6.0)`\n",
    "13.  `sqrt(5.6 % 5.0 - 2.6 % 2.0)`"
   ]
  },
  {
   "cell_type": "code",
   "execution_count": null,
   "metadata": {
    "collapsed": true
   },
   "outputs": [],
   "source": [
    "'''In Python 3.x, the division operator / returns a floating point value even if the result can be represented as\n",
    "an integer, so the results for 1-4 are all floats. Furthermore, any operation involing a float will result in another\n",
    "float. So, all of the results in this problem are floats...'''"
   ]
  },
  {
   "cell_type": "code",
   "execution_count": 1,
   "metadata": {},
   "outputs": [
    {
     "data": {
      "text/plain": [
       "7.4"
      ]
     },
     "execution_count": 1,
     "metadata": {},
     "output_type": "execute_result"
    }
   ],
   "source": [
    "4.0 / 10.0 + 3.5 * 2"
   ]
  },
  {
   "cell_type": "code",
   "execution_count": 1,
   "metadata": {},
   "outputs": [
    {
     "data": {
      "text/plain": [
       "5.0"
      ]
     },
     "execution_count": 1,
     "metadata": {},
     "output_type": "execute_result"
    }
   ],
   "source": [
    "10 % 4 + 6 / 2"
   ]
  },
  {
   "cell_type": "code",
   "execution_count": 1,
   "metadata": {},
   "outputs": [
    {
     "data": {
      "text/plain": [
       "18.96296296296297"
      ]
     },
     "execution_count": 1,
     "metadata": {},
     "output_type": "execute_result"
    }
   ],
   "source": [
    "abs(4 - 20 / 3) ** 3"
   ]
  },
  {
   "cell_type": "code",
   "execution_count": 2,
   "metadata": {},
   "outputs": [
    {
     "data": {
      "text/plain": [
       "11.0"
      ]
     },
     "execution_count": 2,
     "metadata": {},
     "output_type": "execute_result"
    }
   ],
   "source": [
    "3 * 10 / 3 + 10 % 3"
   ]
  },
  {
   "cell_type": "code",
   "execution_count": 4,
   "metadata": {},
   "outputs": [
    {
     "data": {
      "text/plain": [
       "0.050000000000000044"
      ]
     },
     "execution_count": 4,
     "metadata": {},
     "output_type": "execute_result"
    }
   ],
   "source": [
    "1.00 - 0.95"
   ]
  },
  {
   "cell_type": "code",
   "execution_count": 5,
   "metadata": {},
   "outputs": [
    {
     "data": {
      "text/plain": [
       "1.0"
      ]
     },
     "execution_count": 5,
     "metadata": {},
     "output_type": "execute_result"
    }
   ],
   "source": [
    "0.95 + 0.05"
   ]
  },
  {
   "cell_type": "code",
   "execution_count": 6,
   "metadata": {},
   "outputs": [
    {
     "data": {
      "text/plain": [
       "0.2999999999999998"
      ]
     },
     "execution_count": 6,
     "metadata": {},
     "output_type": "execute_result"
    }
   ],
   "source": [
    "5.3 % 5"
   ]
  },
  {
   "cell_type": "code",
   "execution_count": 7,
   "metadata": {},
   "outputs": [
    {
     "data": {
      "text/plain": [
       "0.5999999999999996"
      ]
     },
     "execution_count": 7,
     "metadata": {},
     "output_type": "execute_result"
    }
   ],
   "source": [
    "5.6 % 5"
   ]
  },
  {
   "cell_type": "code",
   "execution_count": 8,
   "metadata": {},
   "outputs": [
    {
     "data": {
      "text/plain": [
       "0.2999999999999998"
      ]
     },
     "execution_count": 8,
     "metadata": {},
     "output_type": "execute_result"
    }
   ],
   "source": [
    "2.3 % 2"
   ]
  },
  {
   "cell_type": "code",
   "execution_count": 9,
   "metadata": {},
   "outputs": [
    {
     "data": {
      "text/plain": [
       "0.6000000000000001"
      ]
     },
     "execution_count": 9,
     "metadata": {},
     "output_type": "execute_result"
    }
   ],
   "source": [
    "2.6 % 2"
   ]
  },
  {
   "cell_type": "code",
   "execution_count": 10,
   "metadata": {},
   "outputs": [
    {
     "ename": "ValueError",
     "evalue": "math domain error",
     "output_type": "error",
     "traceback": [
      "\u001b[1;31m---------------------------------------------------------------------------\u001b[0m",
      "\u001b[1;31mValueError\u001b[0m                                Traceback (most recent call last)",
      "\u001b[1;32m<ipython-input-10-93d5de121701>\u001b[0m in \u001b[0;36m<module>\u001b[1;34m()\u001b[0m\n\u001b[0;32m      1\u001b[0m \u001b[1;32mfrom\u001b[0m \u001b[0mmath\u001b[0m \u001b[1;32mimport\u001b[0m \u001b[0msqrt\u001b[0m\u001b[1;33m\u001b[0m\u001b[0m\n\u001b[1;32m----> 2\u001b[1;33m \u001b[0msqrt\u001b[0m\u001b[1;33m(\u001b[0m\u001b[1;36m4.5\u001b[0m \u001b[1;33m-\u001b[0m \u001b[1;36m5.0\u001b[0m\u001b[1;33m)\u001b[0m \u001b[1;33m+\u001b[0m \u001b[1;36m7\u001b[0m \u001b[1;33m*\u001b[0m \u001b[1;36m3\u001b[0m\u001b[1;33m\u001b[0m\u001b[0m\n\u001b[0m",
      "\u001b[1;31mValueError\u001b[0m: math domain error"
     ]
    }
   ],
   "source": [
    "'''The argument inside the sqrt function is outside of its domain, so we get a ValueError. We can use cmath to get a\n",
    "complex number for our result'''\n",
    "from math import sqrt\n",
    "sqrt(4.5 - 5.0) + 7 * 3"
   ]
  },
  {
   "cell_type": "code",
   "execution_count": 1,
   "metadata": {},
   "outputs": [
    {
     "data": {
      "text/plain": [
       "(21+0.7071067811865476j)"
      ]
     },
     "execution_count": 1,
     "metadata": {},
     "output_type": "execute_result"
    }
   ],
   "source": [
    "from cmath import sqrt\n",
    "sqrt(4.5 - 5.0) + 7 * 3"
   ]
  },
  {
   "cell_type": "code",
   "execution_count": 12,
   "metadata": {},
   "outputs": [
    {
     "data": {
      "text/plain": [
       "0.0"
      ]
     },
     "execution_count": 12,
     "metadata": {},
     "output_type": "execute_result"
    }
   ],
   "source": [
    "from math import sqrt\n",
    "sqrt(5.0/3.0 - 10.0/6.0)"
   ]
  },
  {
   "cell_type": "code",
   "execution_count": 2,
   "metadata": {},
   "outputs": [
    {
     "ename": "ValueError",
     "evalue": "math domain error",
     "output_type": "error",
     "traceback": [
      "\u001b[1;31m---------------------------------------------------------------------------\u001b[0m",
      "\u001b[1;31mValueError\u001b[0m                                Traceback (most recent call last)",
      "\u001b[1;32m<ipython-input-2-dfe93843830e>\u001b[0m in \u001b[0;36m<module>\u001b[1;34m()\u001b[0m\n\u001b[0;32m      1\u001b[0m \u001b[1;32mfrom\u001b[0m \u001b[0mmath\u001b[0m \u001b[1;32mimport\u001b[0m \u001b[0msqrt\u001b[0m\u001b[1;33m\u001b[0m\u001b[0m\n\u001b[1;32m----> 2\u001b[1;33m \u001b[0msqrt\u001b[0m\u001b[1;33m(\u001b[0m\u001b[1;36m5.6\u001b[0m \u001b[1;33m%\u001b[0m \u001b[1;36m5.0\u001b[0m \u001b[1;33m-\u001b[0m \u001b[1;36m2.6\u001b[0m \u001b[1;33m%\u001b[0m \u001b[1;36m2.0\u001b[0m\u001b[1;33m)\u001b[0m\u001b[1;33m\u001b[0m\u001b[0m\n\u001b[0m",
      "\u001b[1;31mValueError\u001b[0m: math domain error"
     ]
    }
   ],
   "source": [
    "'''This was a little unexpected, since the argument (simplified) is 0, which is still in the domain of the sqrt\n",
    "function. However, there are inaccuracies involved in floating point arithmetic, and these inaccuracies lead to a\n",
    "domain error. Once again, we can use cmath to get a complex result'''\n",
    "from math import sqrt\n",
    "sqrt(5.6 % 5.0 - 2.6 % 2.0)"
   ]
  },
  {
   "cell_type": "code",
   "execution_count": 2,
   "metadata": {},
   "outputs": [
    {
     "data": {
      "text/plain": [
       "2.1073424255447017e-08j"
      ]
     },
     "execution_count": 2,
     "metadata": {},
     "output_type": "execute_result"
    }
   ],
   "source": [
    "from cmath import sqrt\n",
    "sqrt(5.6 % 5.0 - 2.6 % 2.0)"
   ]
  },
  {
   "cell_type": "code",
   "execution_count": 5,
   "metadata": {},
   "outputs": [
    {
     "name": "stdout",
     "output_type": "stream",
     "text": [
      "0.5999999999999996\n",
      "0.6000000000000001\n",
      "-4.440892098500626e-16\n"
     ]
    }
   ],
   "source": [
    "'''5.6 % 5.0 should equal 2.6 % 2.0, but the floats lead to some trouble.'''\n",
    "print(5.6 % 5.0)\n",
    "print(2.6 % 2.0)\n",
    "print(5.6 % 5.0 - 2.6 % 2.0)"
   ]
  },
  {
   "cell_type": "markdown",
   "metadata": {},
   "source": [
    "### Problem 2\n",
    "Show the list of numbers that would be generated by each of the following range expressions.\n",
    "\n",
    "Note that under Python 3, `range` is a type along with `list` and `tuple`.  So `print(range(5))` will just return `range(5)`.  How can you print out the list of elements of `range(5)` in Python 3?  Do so.\n",
    "\n",
    "1.  `range(5)`\n",
    "2.  `range(3, 10)`\n",
    "3.  `range(4, 13, 3)`\n",
    "4.  `range(15, 5, -2)`\n",
    "5.  `range(5, 3)`"
   ]
  },
  {
   "cell_type": "code",
   "execution_count": 14,
   "metadata": {},
   "outputs": [
    {
     "name": "stdout",
     "output_type": "stream",
     "text": [
      "[0, 1, 2, 3, 4]\n",
      "[3, 4, 5, 6, 7, 8, 9]\n",
      "[4, 7, 10]\n",
      "[15, 13, 11, 9, 7]\n",
      "[]\n"
     ]
    }
   ],
   "source": [
    "'''range() does not technically create a list, so you must use the list() function to turn it into one. Then you can\n",
    "print it.'''\n",
    "print(list(range(5)))\n",
    "print(list(range(3,10)))\n",
    "print(list(range(4,13,3)))\n",
    "print(list(range(15,5,-2)))\n",
    "print(list(range(5,3)))"
   ]
  },
  {
   "cell_type": "markdown",
   "metadata": {},
   "source": [
    "### Problem 3\n",
    "Show the output that would be generated by each of the following program fragments.\n",
    "\n",
    "1. ```\n",
    "for i in range(1, 11):\n",
    "      print(i*i)\n",
    "```\n",
    "\n",
    "2. ```\n",
    "for i in [1,3,5,7,9]:\n",
    "      print(i, \":\", i**3)\n",
    "```\n",
    "\n",
    "3. ```\n",
    "x = 2\n",
    "y = 10\n",
    "for j in range(0, y, x):\n",
    "      print(j,)\n",
    "      print(x + y)\n",
    "      print(\"done\")\n",
    "```\n",
    "\n",
    "4. ```\n",
    "ans = 0\n",
    "for i in range(1, 11):\n",
    "      ans = ans + i*i\n",
    "      print(i, ans)\n",
    "```"
   ]
  },
  {
   "cell_type": "code",
   "execution_count": 15,
   "metadata": {},
   "outputs": [
    {
     "name": "stdout",
     "output_type": "stream",
     "text": [
      "1\n",
      "4\n",
      "9\n",
      "16\n",
      "25\n",
      "36\n",
      "49\n",
      "64\n",
      "81\n",
      "100\n"
     ]
    }
   ],
   "source": [
    "for i in range(1, 11):\n",
    "   print(i*i)"
   ]
  },
  {
   "cell_type": "code",
   "execution_count": 16,
   "metadata": {},
   "outputs": [
    {
     "name": "stdout",
     "output_type": "stream",
     "text": [
      "1 : 1\n",
      "3 : 27\n",
      "5 : 125\n",
      "7 : 343\n",
      "9 : 729\n"
     ]
    }
   ],
   "source": [
    "for i in [1,3,5,7,9]:\n",
    "   print(i, \":\", i**3)"
   ]
  },
  {
   "cell_type": "code",
   "execution_count": 19,
   "metadata": {},
   "outputs": [
    {
     "name": "stdout",
     "output_type": "stream",
     "text": [
      "0\n",
      "12\n",
      "done\n",
      "2\n",
      "12\n",
      "done\n",
      "4\n",
      "12\n",
      "done\n",
      "6\n",
      "12\n",
      "done\n",
      "8\n",
      "12\n",
      "done\n"
     ]
    }
   ],
   "source": [
    "x = 2\n",
    "y = 10\n",
    "for j in range(0, y, x):\n",
    "   print(j,)\n",
    "   print(x + y)\n",
    "   print(\"done\")"
   ]
  },
  {
   "cell_type": "code",
   "execution_count": 20,
   "metadata": {},
   "outputs": [
    {
     "name": "stdout",
     "output_type": "stream",
     "text": [
      "1 1\n",
      "2 5\n",
      "3 14\n",
      "4 30\n",
      "5 55\n",
      "6 91\n",
      "7 140\n",
      "8 204\n",
      "9 285\n",
      "10 385\n"
     ]
    }
   ],
   "source": [
    "ans = 0\n",
    "for i in range(1, 11):\n",
    "   ans = ans + i*i\n",
    "   print(i, ans)"
   ]
  },
  {
   "cell_type": "markdown",
   "metadata": {},
   "source": [
    "### Problem 4 : Explore What Zero Can Be on a Computer\n",
    "Type in the following code and run it:\n",
    "```\n",
    "    eps = 1.0\n",
    "    while 1.0 != 1.0 + eps:\n",
    "      print(\"...............\", eps)\n",
    "      eps = eps/2.0\n",
    "    print(\"final eps:\", eps)\n",
    "````\n",
    "\n",
    "Explain with words what the code is doing, line by line. \n",
    "Then examine the output.\n",
    "How can it be that the \"equation\" $1=1+{\\rm eps}$ is not true?\n",
    "Or in other words, that a number of approximately size $10^{-16}$ (the final eps value when the loop terminates) gives the same result as if eps were zero?\n",
    "If somebody shows you this interactive session\n",
    "```\n",
    "    >>> 0.5 + 1.45E-22\n",
    "    0.5\n",
    "```\n",
    "and claims that Python cannot add numbers correctly, what is your answer?"
   ]
  },
  {
   "cell_type": "code",
   "execution_count": 3,
   "metadata": {},
   "outputs": [
    {
     "name": "stdout",
     "output_type": "stream",
     "text": [
      ".............. 1.0\n",
      ".............. 0.5\n",
      ".............. 0.25\n",
      ".............. 0.125\n",
      ".............. 0.0625\n",
      ".............. 0.03125\n",
      ".............. 0.015625\n",
      ".............. 0.0078125\n",
      ".............. 0.00390625\n",
      ".............. 0.001953125\n",
      ".............. 0.0009765625\n",
      ".............. 0.00048828125\n",
      ".............. 0.000244140625\n",
      ".............. 0.0001220703125\n",
      ".............. 6.103515625e-05\n",
      ".............. 3.0517578125e-05\n",
      ".............. 1.52587890625e-05\n",
      ".............. 7.62939453125e-06\n",
      ".............. 3.814697265625e-06\n",
      ".............. 1.9073486328125e-06\n",
      ".............. 9.5367431640625e-07\n",
      ".............. 4.76837158203125e-07\n",
      ".............. 2.384185791015625e-07\n",
      ".............. 1.1920928955078125e-07\n",
      ".............. 5.960464477539063e-08\n",
      ".............. 2.9802322387695312e-08\n",
      ".............. 1.4901161193847656e-08\n",
      ".............. 7.450580596923828e-09\n",
      ".............. 3.725290298461914e-09\n",
      ".............. 1.862645149230957e-09\n",
      ".............. 9.313225746154785e-10\n",
      ".............. 4.656612873077393e-10\n",
      ".............. 2.3283064365386963e-10\n",
      ".............. 1.1641532182693481e-10\n",
      ".............. 5.820766091346741e-11\n",
      ".............. 2.9103830456733704e-11\n",
      ".............. 1.4551915228366852e-11\n",
      ".............. 7.275957614183426e-12\n",
      ".............. 3.637978807091713e-12\n",
      ".............. 1.8189894035458565e-12\n",
      ".............. 9.094947017729282e-13\n",
      ".............. 4.547473508864641e-13\n",
      ".............. 2.2737367544323206e-13\n",
      ".............. 1.1368683772161603e-13\n",
      ".............. 5.684341886080802e-14\n",
      ".............. 2.842170943040401e-14\n",
      ".............. 1.4210854715202004e-14\n",
      ".............. 7.105427357601002e-15\n",
      ".............. 3.552713678800501e-15\n",
      ".............. 1.7763568394002505e-15\n",
      ".............. 8.881784197001252e-16\n",
      ".............. 4.440892098500626e-16\n",
      ".............. 2.220446049250313e-16\n",
      "final eps: 1.1102230246251565e-16\n"
     ]
    }
   ],
   "source": [
    "'''1 = 1 + eps will be false as long as eps is large enough. Once it is\n",
    "small enough, Python will no longer be able to detect a significant\n",
    "difference between 1 and 1 + eps. Python has a certain degree of precision.\n",
    "\n",
    "It's not that Python cannot add numbers. Any number that cannot be\n",
    "represented in binary (i.e. represented as sums of powers of 2) cannot be\n",
    "accurately represented as a floating point number. The closest\n",
    "apptoximation is often less than the actual number.'''\n",
    "\n",
    "eps = 1.0\n",
    "while 1.0 != 1.0 + eps:\n",
    "    print(\"..............\", eps)\n",
    "    eps = eps/2.0\n",
    "print(\"final eps:\", eps)"
   ]
  },
  {
   "cell_type": "markdown",
   "metadata": {},
   "source": [
    "### Problem 5\n",
    "Create a Python function that will evaluate each of the following expressions in order and print the results. Your function will need to accept the input values $(x_1, x_2, y_1, y_2)$.\n",
    "\n",
    "1.  $(3+4)(5)$\n",
    "2.  $\\frac{x_1(x_1-1)}{2}$\n",
    "3.  $4\\pi x_2^2$\n",
    "4.  $\\sqrt{x_1(\\cos y_1)^2+x_1(\\sin y_1)^2}$\n",
    "5.  $\\frac{y_2-y_1}{x_2-x_1}$"
   ]
  },
  {
   "cell_type": "code",
   "execution_count": 22,
   "metadata": {
    "collapsed": true
   },
   "outputs": [],
   "source": [
    "from math import pi,cos,sin,sqrt\n",
    "\n",
    "def problem_5(x_1, x_2, y_1, y_2):\n",
    "    print( (3+5)*(5) )\n",
    "    print( x_1 * (x_1 - 1) / 2 )\n",
    "    print( 4 * pi * x_2 ** 2)\n",
    "    print( sqrt(x_1 * cos(y_1)**2 + x_1 * sin(y_1)**2))\n",
    "    print((y_2 - y_1) / (x_2 - x_1))"
   ]
  },
  {
   "cell_type": "markdown",
   "metadata": {},
   "source": [
    "### Problem 6 : Celsius to Fahrenheit Conversion\n",
    "Write a Python function that computes and prints a nicely formatted table of Celsius temperatures and the Fahrenheit equivalents every 10 degrees Celsius from 0 to 100 $$^\\circ$$C. The first column should be the Celsius value, the second column should be the Fahrenheit value calculated by $$F=\\frac{9}{5} C + 32$$, and the third column should be the approximate Fahrenheit value calculated with the “double it and add 30” rule, that is $$F=2 C + 30$$."
   ]
  },
  {
   "cell_type": "code",
   "execution_count": 24,
   "metadata": {},
   "outputs": [
    {
     "name": "stdout",
     "output_type": "stream",
     "text": [
      "0\t32.0\t30\n",
      "10\t50.0\t50\n",
      "20\t68.0\t70\n",
      "30\t86.0\t90\n",
      "40\t104.0\t110\n",
      "50\t122.0\t130\n",
      "60\t140.0\t150\n",
      "70\t158.0\t170\n",
      "80\t176.0\t190\n",
      "90\t194.0\t210\n",
      "100\t212.0\t230\n"
     ]
    }
   ],
   "source": [
    "def Celsius_to_Fahrenheit():\n",
    "    for C in range(0,101,10):\n",
    "        F = 9/5 * C + 32\n",
    "        approx_F = 2*C + 30\n",
    "        print(C, F, approx_F, sep='\\t')\n",
    "\n",
    "Celsius_to_Fahrenheit()"
   ]
  },
  {
   "cell_type": "markdown",
   "metadata": {},
   "source": [
    "### Problem 7 : Calculating $\\pi$\n",
    "Write a Python function that approximates the value of $\\pi$ by summing the terms of this series: $$4/1-4/3+4/5-4/7+4/9-4/11+\\cdots$$\n",
    "Have your function subtract the approximation from the value of `math.pi` to see how accurate it is.  How many terms do you need to use to obtain 4 digits of accuracy? How many terms can you include before your calculation takes more than 5 seconds?"
   ]
  },
  {
   "cell_type": "code",
   "execution_count": 4,
   "metadata": {},
   "outputs": [
    {
     "name": "stdout",
     "output_type": "stream",
     "text": [
      "Number of terms:\t1558\n",
      "Approximation:\t3.1409508051321495\n",
      "Difference:\t0.0006418484576435901\n"
     ]
    }
   ],
   "source": [
    "'''4 digit approximation'''\n",
    "from math import pi\n",
    "import time\n",
    "\n",
    "def pi_sum():\n",
    "\n",
    "    approx_pi = 0\n",
    "    n = 0\n",
    "    \n",
    "    while round(approx_pi, 4) != 3.141:\n",
    "        \n",
    "        n += 1\n",
    "\n",
    "        if n % 2 == 1:\n",
    "            approx_pi += 4 / (2*n - 1)\n",
    "        else:\n",
    "            approx_pi -= 4 / (2*n - 1)\n",
    "            \n",
    "        t_2 = time.time()\n",
    "            \n",
    "    print('Number of terms:', n, sep='\\t')\n",
    "    print('Approximation:', approx_pi, sep='\\t')\n",
    "    print('Difference:', pi - approx_pi, sep='\\t')\n",
    "    \n",
    "\n",
    "pi_sum()"
   ]
  },
  {
   "cell_type": "code",
   "execution_count": 5,
   "metadata": {},
   "outputs": [
    {
     "name": "stdout",
     "output_type": "stream",
     "text": [
      "Number of terms:\t7048289\n",
      "Approximation:\t3.1415927954681613\n",
      "Difference:\t-1.4187836816503818e-07\n"
     ]
    }
   ],
   "source": [
    "'''5 seconds'''\n",
    "from math import pi\n",
    "import time\n",
    "\n",
    "def pi_sum():\n",
    "    t_1 = time.time()\n",
    "    t_2 = 0\n",
    "\n",
    "    approx_pi = 0\n",
    "    n = 0\n",
    "    \n",
    "    while t_2 - t_1 < 5:\n",
    "        \n",
    "        n += 1\n",
    "\n",
    "        if n % 2 == 1:\n",
    "            approx_pi += 4 / (2*n - 1)\n",
    "        else:\n",
    "            approx_pi -= 4 / (2*n - 1)\n",
    "            \n",
    "        t_2 = time.time()\n",
    "            \n",
    "    print('Number of terms:', n, sep='\\t')\n",
    "    print('Approximation:', approx_pi, sep='\\t')\n",
    "    print('Difference:', pi - approx_pi, sep='\\t')\n",
    "    \n",
    "\n",
    "pi_sum()"
   ]
  },
  {
   "cell_type": "markdown",
   "metadata": {},
   "source": [
    "### Problem 8 : Square Root\n",
    "The Python `math` library contains a function, `math.sqrt`, which computes the square root of numbers. In this exercise, you are to write your own algorithm for computing square roots. One way to solve this problem is to use a guess-and-check approach. You first guess what the square root might be and then see how close your guess is. You can use the information to make another guess and continue guessing until you have found the sure root (or a close approximation of it). One particularly good way of making guesses is to use Newton’s method. Suppose $x$ is the number we want the square root of and ${\\rm guess}$ is the current guessed answer. Then\n",
    "$${\\rm next guess} = \\frac{{\\rm guess}+x/{\\rm guess}}{2}$$\n",
    "will yield an improved next guess.\n",
    "\n",
    "We will investigate Newton's method further in future classes. For now, show analytically that if the guess stops changing, your guess is the correct answer (to the available precision). Write a Python function that implements Newton's method. The template function  includes the value to find the square root of $x$ and the number of times to improve the guess. Starting with a guess value of ${\\rm guess}=2$, your program should loop the specified number of times applying Newton's method and report the final value of guess. You should also subtract your estimate from the value as computed by  `math.sqrt` to show how close it is."
   ]
  },
  {
   "cell_type": "code",
   "execution_count": 9,
   "metadata": {},
   "outputs": [
    {
     "name": "stdout",
     "output_type": "stream",
     "text": [
      "Enter your guess for the square root of 2: 2\n",
      "2.220446049250313e-16\n",
      "1.414213562373095\n"
     ]
    }
   ],
   "source": [
    "'''If guess = next_guess, we have \n",
    "guess = (guess + x/guess) / 2\n",
    "2*guess = guess + x/guess\n",
    "guess = x/guess\n",
    "guess**2 = x\n",
    "guess = sqrt(x)'''\n",
    "\n",
    "from math import sqrt\n",
    "\n",
    "def newton(x):\n",
    "    guess = float(input('Enter your guess for the square root of ' + str(x) + ': '))\n",
    "        \n",
    "    while True:\n",
    "        next_guess = (guess + x / guess) / 2\n",
    "        if next_guess == guess:\n",
    "            break\n",
    "        else:\n",
    "            guess = next_guess\n",
    "\n",
    "    print(abs(sqrt(x) - guess))\n",
    "    return guess\n",
    "\n",
    "print(newton(2))"
   ]
  },
  {
   "cell_type": "code",
   "execution_count": null,
   "metadata": {
    "collapsed": true
   },
   "outputs": [],
   "source": []
  }
 ],
 "metadata": {
  "anaconda-cloud": {},
  "kernelspec": {
   "display_name": "Python 3",
   "language": "python",
   "name": "python3"
  },
  "language_info": {
   "codemirror_mode": {
    "name": "ipython",
    "version": 3
   },
   "file_extension": ".py",
   "mimetype": "text/x-python",
   "name": "python",
   "nbconvert_exporter": "python",
   "pygments_lexer": "ipython3",
   "version": "3.7.1"
  }
 },
 "nbformat": 4,
 "nbformat_minor": 1
}
