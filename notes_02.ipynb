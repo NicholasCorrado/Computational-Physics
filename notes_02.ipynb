{
 "cells": [
  {
   "cell_type": "markdown",
   "metadata": {
    "slideshow": {
     "slide_type": "slide"
    }
   },
   "source": [
    "# Computational Methods in Physics\n",
    "## Week 02\n",
    "#### Prof. Michael Wood-Vasey\n",
    "##### University of Pittsburgh, Department of Physics and Astronomy\n",
    "\n",
    "\n",
    "## Homework 02\n",
    "* Homework 2 is Due 2016-09-09, 23:59\n",
    "* https://www.github.com/pitt1321/assignments/hmwk_02\n",
    "\n",
    "## Reading at  https://github.com/pitt1321/lectures/README.md\n",
    "(which is what the webpage at https://github.com/pitt1321/lectures will show by default)\n",
    "\n",
    "## Please 'Watch' https://github.com/pitt1321/lectures\n",
    "* Go to above page and click on 'Watch'.\n",
    "* I post class updates and useful tidbits as Issues."
   ]
  },
  {
   "cell_type": "markdown",
   "metadata": {
    "slideshow": {
     "slide_type": "slide"
    }
   },
   "source": [
    "## Where to Go for Help\n",
    "* Barring apocalypse, you will spend the rest of your life with information and tutorials on almost every subject quickly available.\n",
    " - I am not teaching for the apocalpyse.\n",
    "* You will spend most of your life not in the classroom.\n",
    "* My job is to teach you how to learn on your own.\n",
    "* If there is a video explaining something: **watch it**.\n",
    "* If there is a document explaining something: **read it**.\n",
    "* Our time together is valuable for its opportunity for **interaction**."
   ]
  },
  {
   "cell_type": "markdown",
   "metadata": {
    "slideshow": {
     "slide_type": "slide"
    }
   },
   "source": [
    "## Where to Go for Help\n",
    "* Office hours: Wednesday 11:00-12:00 in Allen 308.\n",
    "* Make an appointment to meet with me.\n",
    "* File Issues on homework and projects to ask for help from others.\n",
    "* Give help to others.\n",
    "* Lots of Python help available online!\n",
    " - http://www.python.org/\n",
    " - http://numpy.scipy.org/"
   ]
  },
  {
   "cell_type": "markdown",
   "metadata": {},
   "source": [
    "## hmwk_01 grading\n",
    "  * We will be using Pull Request comments\n",
    "    - You can choose to watch and unwatch repositories\n",
    "  \n",
    "  * If you had trouble submitting hmwk_01, **solve that today**.  \n",
    "    - Before you leave today, make sure you can `fork`, `clone`, `add`+`commit`, and `push`/sync back to your fork on GitHub.\n",
    "  * How much time did hmwk_01 take you:  > 2 hours; > 4 hours; > 8 hours?"
   ]
  },
  {
   "cell_type": "markdown",
   "metadata": {
    "slideshow": {
     "slide_type": "slide"
    }
   },
   "source": [
    "\n",
    "# Today:\n",
    "\n",
    "## Arrays and Numpy\n",
    "\n",
    "* Numbers are more efficiently stored and manipulated in `array`s than in `list`s or `tuple`s.\n",
    "* We will use arrays created by the NumPy library, which is the standard for arrays in Python.\n",
    "* Watch out for fixed-bit representation issues in numpy: why is `2**63 = -9223372036854775808`?\n",
    "\n",
    "## Plotting\n",
    "\n",
    "* `matplotlib` is the main 2-D plotting package in Python.\n",
    "* Interactive Tutorial and exercise on plotting...\n",
    "* See `python_introduction_subset_numpy.pdf`"
   ]
  },
  {
   "cell_type": "markdown",
   "metadata": {
    "slideshow": {
     "slide_type": "slide"
    }
   },
   "source": [
    "## Today we will\n",
    "* Learn to plot (visualize) function curves\n",
    "* Learn to store data in arrays (lists)\n",
    "\n",
    "* Curves y = f (x) are visualized by drawing straight line between consecutive points along the curve\n",
    "* We need to store the coordinates of the points along the curve in lists or arrays x and y\n",
    "* Arrays are like lists, but much computationally more efficient\n",
    " - The tradeoff is that they are less flexible.\n",
    "* When we need to compute with large amounts of numbers, we store the numbers in arrays and compute with arrays – this gives shorter and faster code"
   ]
  },
  {
   "cell_type": "markdown",
   "metadata": {
    "slideshow": {
     "slide_type": "slide"
    }
   },
   "source": [
    "Example Matplotlib"
   ]
  },
  {
   "cell_type": "code",
   "execution_count": 1,
   "metadata": {
    "collapsed": true,
    "slideshow": {
     "slide_type": "fragment"
    }
   },
   "outputs": [],
   "source": [
    "%matplotlib inline\n",
    "import numpy as np\n",
    "import matplotlib.pyplot as plt"
   ]
  },
  {
   "cell_type": "code",
   "execution_count": 2,
   "metadata": {
    "collapsed": false,
    "slideshow": {
     "slide_type": "fragment"
    }
   },
   "outputs": [
    {
     "name": "stdout",
     "output_type": "stream",
     "text": [
      "<class 'numpy.ndarray'>\n",
      "50\n"
     ]
    }
   ],
   "source": [
    "a = np.linspace(0, 100)\n",
    "print(type(a))\n",
    "print(len(a))"
   ]
  },
  {
   "cell_type": "code",
   "execution_count": 3,
   "metadata": {
    "collapsed": true,
    "slideshow": {
     "slide_type": "fragment"
    }
   },
   "outputs": [],
   "source": [
    "np.linspace?"
   ]
  },
  {
   "cell_type": "code",
   "execution_count": null,
   "metadata": {
    "collapsed": false,
    "slideshow": {
     "slide_type": "fragment"
    }
   },
   "outputs": [],
   "source": [
    "a = np.linspace(0, 100, 100)\n",
    "print(a)"
   ]
  },
  {
   "cell_type": "code",
   "execution_count": null,
   "metadata": {
    "collapsed": false,
    "slideshow": {
     "slide_type": "fragment"
    }
   },
   "outputs": [],
   "source": [
    "a = np.linspace(0, 100, 101)\n",
    "print(a)"
   ]
  },
  {
   "cell_type": "code",
   "execution_count": 13,
   "metadata": {
    "collapsed": false,
    "slideshow": {
     "slide_type": "fragment"
    }
   },
   "outputs": [
    {
     "data": {
      "text/plain": [
       "<matplotlib.text.Text at 0x10d20be48>"
      ]
     },
     "execution_count": 13,
     "metadata": {},
     "output_type": "execute_result"
    },
    {
     "data": {
      "image/png": "[encoded data removed]",
      "text/plain": [
       "<matplotlib.figure.Figure at 0x10d2dfdd8>"
      ]
     },
     "metadata": {},
     "output_type": "display_data"
    }
   ],
   "source": [
    "x = np.linspace(0, 3*2*np.pi, 101)\n",
    "y = np.sin(x)\n",
    "plt.plot(x, y)\n",
    "plt.plot(x, 2*y)\n",
    "plt.xlabel(\"Angle [rad]\")\n",
    "plt.ylabel(\"Amplitude []\")"
   ]
  },
  {
   "cell_type": "markdown",
   "metadata": {
    "slideshow": {
     "slide_type": "slide"
    }
   },
   "source": [
    "### Next week we'll talk about how computers actually store numbers:\n",
    "## An infinite number line in finite space\n",
    "\n",
    "* How do computers store numbers?\n",
    "\n",
    "* Computers fundamentally think in bits = (0,1)\n",
    "* With $N$ bits, we can represent $2^N$ numbers\n",
    "* Let's start with integers:\n",
    "  - E.g., with 1 bit we can represent $[0,1]\\rightarrow[0,1]$\n",
    "  - with 2 bits, we can represent $[00,01,10,11]\\rightarrow[0,1,2,3]$\n",
    "  - How many numbers can we represent with 4 bits?  8 bits?\n",
    "  - $[0,..,2^N -1]$\n",
    "* Wait, how do we represent $-1$?   Hmmm...\n",
    "  - The above scheme was a choice.  In principle, we could have picked any relation. \n",
    "  - But it's really helpful to choose one that makes binary arithmetic easy.\n",
    "    1. In our unsigned int scheme, $0110+1000 = 1110 \\rightarrow 6+8=14$\n",
    "    2. Adding $0001$ to $0110$ results in number bigger than $0110$.\n",
    "      - In other words, adding $0001$ moves \"rightward\" along the number line.\n",
    "  - It would be nice if we could maintain that for our representation of negative numbers"
   ]
  },
  {
   "cell_type": "code",
   "execution_count": 14,
   "metadata": {
    "collapsed": false
   },
   "outputs": [
    {
     "data": {
      "text/plain": [
       "numpy.int64"
      ]
     },
     "execution_count": 14,
     "metadata": {},
     "output_type": "execute_result"
    }
   ],
   "source": [
    "n = np.array([1,2,4,8,16,32,64,128], dtype=np.int64)\n",
    "type(n[0])"
   ]
  },
  {
   "cell_type": "code",
   "execution_count": 15,
   "metadata": {
    "collapsed": false
   },
   "outputs": [
    {
     "name": "stderr",
     "output_type": "stream",
     "text": [
      "/usr/local/lib/python3.5/site-packages/ipykernel/__main__.py:1: RuntimeWarning: invalid value encountered in power\n",
      "  if __name__ == '__main__':\n"
     ]
    },
    {
     "data": {
      "text/plain": [
       "array([                   2,                    4,                   16,\n",
       "                        256,                65536,           4294967296,\n",
       "       -9223372036854775808, -9223372036854775808])"
      ]
     },
     "execution_count": 15,
     "metadata": {},
     "output_type": "execute_result"
    }
   ],
   "source": [
    "2**n"
   ]
  },
  {
   "cell_type": "markdown",
   "metadata": {},
   "source": [
    "## Negative numbers and Two's-Complement\n",
    "  * Adding $0001$ moving \"rightward\" on the number line sounds trivial\n",
    "    - But it's not a property of the most obvious thing you might suggest!\n",
    "  * The first thing I would think of, is to steal the first binary digit to serve as a sign bit.\n",
    "  * Naive Proposal:  $0110 \\rightarrow 6$ and $1110 \\rightarrow -6$\n",
    "    - Let's check out our criteria 1 & 2.  The positive numbers $0000,..,0111$ satisfy.\n",
    "    - Uh oh...\n",
    "    1. $1100+1010=0110 \\rightarrow -4 + -2 = 6$  Wrong.  \n",
    "        [Note: The carry bit just shifts off to be discarded to the left.]\n",
    "    2. $1100+0001=1101 \\rightarrow -4 + 1 = -5$  Wrong, and doesn't move rightward. "
   ]
  },
  {
   "cell_type": "markdown",
   "metadata": {
    "slideshow": {
     "slide_type": "-"
    }
   },
   "source": [
    "### Two's Complement:  $1010 \\rightarrow -6$\n",
    "  1. Take binary representation of positive integer and invert: $0110 \\rightarrow 1001$\n",
    "  2. Add 1: $1001+0001 \\rightarrow 1010$.\n",
    "    - Let's check out the bit arithmetic.\n",
    "      1. $1100+1110=1010 \\rightarrow -4 + -2 = -6$  Good.\n",
    "      2. $1100+0001=1101 \\rightarrow -4 +  1 = -3$  Good.\n",
    "    - Why add 1?\n",
    "      * Because $1111+0001=0000$.  Why do I say that:\n",
    "      * We want $+5 + -5 = 0$.  If we just took inverse, then $0101+1010=1111$\n",
    "        But if $-5\\leftarrow1011$, then $+5 + -5\\leftarrow0101+1011=0000$.  \n",
    "        Excellent.\n",
    "     "
   ]
  },
  {
   "cell_type": "markdown",
   "metadata": {
    "slideshow": {
     "slide_type": "slide"
    }
   },
   "source": [
    "### Integers\n",
    "1. In practice integers in `numpy` are 32 bit or 64 bit\n",
    "\n",
    "Integers in non-numpy Python are formally infinite, but because the computer knows less about how large the numbers are in memory this is less efficient for large collections of numbers.  We will be do much of our work in this class within `numpy`, so these fixed-bit represetation issues are good to be aware of."
   ]
  },
  {
   "cell_type": "code",
   "execution_count": 28,
   "metadata": {
    "collapsed": false,
    "slideshow": {
     "slide_type": "fragment"
    }
   },
   "outputs": [
    {
     "name": "stdout",
     "output_type": "stream",
     "text": [
      "32-bit Unsigned: (           0,   4294967295)\n",
      "32-bit Signed:   ( -2147483648,   2147483647)\n",
      "64-bit Unsigned: (                   0, 18446744073709551615)\n",
      "64-bit Signed:   (-9223372036854775808,  9223372036854775807)\n"
     ]
    }
   ],
   "source": [
    "print(\"32-bit Unsigned: (%12d, %12d)\" % (     0, 2**32 -1))\n",
    "print(\"32-bit Signed:   (%12d, %12d)\" % (-2**31, 2**31 -1))\n",
    "print(\"64-bit Unsigned: (%20d, %20d)\" % (     0, 2**64 -1))\n",
    "print(\"64-bit Signed:   (%20d, %20d)\" % (-2**63, 2**63 -1))"
   ]
  },
  {
   "cell_type": "markdown",
   "metadata": {},
   "source": [
    "### [Floating point material adapted from \"Introductory Computational Science\" by Rubin Landau, EPIC/OSU 2005"
   ]
  }
 ],
 "metadata": {
  "celltoolbar": "Slideshow",
  "kernelspec": {
   "display_name": "Python 3",
   "language": "python",
   "name": "python3"
  },
  "language_info": {
   "codemirror_mode": {
    "name": "ipython",
    "version": 3
   },
   "file_extension": ".py",
   "mimetype": "text/x-python",
   "name": "python",
   "nbconvert_exporter": "python",
   "pygments_lexer": "ipython3",
   "version": "3.5.2"
  }
 },
 "nbformat": 4,
 "nbformat_minor": 0
}
